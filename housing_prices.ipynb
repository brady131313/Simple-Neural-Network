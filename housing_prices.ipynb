{
 "cells": [
  {
   "cell_type": "code",
   "execution_count": 1,
   "metadata": {},
   "outputs": [],
   "source": [
    "from neuralnet import NeuralNet, meansquared\n",
    "from activations import sigmoid, relu, tanh, softmax\n",
    "from visualize import plot_decision_boundary, learning_rate_test\n",
    "\n",
    "import numpy as np\n",
    "from sklearn.datasets import fetch_california_housing\n",
    "from sklearn.model_selection import train_test_split"
   ]
  },
  {
   "cell_type": "code",
   "execution_count": 2,
   "metadata": {},
   "outputs": [],
   "source": [
    "dataset = fetch_california_housing()"
   ]
  },
  {
   "cell_type": "code",
   "execution_count": 3,
   "metadata": {},
   "outputs": [
    {
     "name": "stdout",
     "output_type": "stream",
     "text": "(20640, 8) (20640,)\n"
    }
   ],
   "source": [
    "X = dataset['data']\n",
    "y = dataset['target']\n",
    "features = dataset['feature_names']\n",
    "print(X.shape, y.shape)"
   ]
  },
  {
   "cell_type": "code",
   "execution_count": 4,
   "metadata": {},
   "outputs": [],
   "source": [
    "y = y.reshape((y.shape[0], 1))\n",
    "for index, feature in enumerate(features):\n",
    "    X[:, index] = (X[:, index] - X[:, index].mean()) / X[:, index].std()"
   ]
  },
  {
   "cell_type": "code",
   "execution_count": 5,
   "metadata": {},
   "outputs": [
    {
     "name": "stdout",
     "output_type": "stream",
     "text": "(8, 15480) (1, 15480)\n"
    }
   ],
   "source": [
    "X_train, X_test, y_train, y_test = train_test_split(X, y)\n",
    "X_train = X_train.T\n",
    "X_test = X_test.T\n",
    "y_train = y_train.T\n",
    "y_test = y_test.T\n",
    "\n",
    "print(X_train.shape, y_train.shape)"
   ]
  },
  {
   "cell_type": "code",
   "execution_count": 6,
   "metadata": {},
   "outputs": [],
   "source": [
    "layers = [8, 6, 1]\n",
    "activations = [relu(), relu()]\n",
    "\n",
    "net = NeuralNet(layers, activations, meansquared())"
   ]
  },
  {
   "cell_type": "code",
   "execution_count": 7,
   "metadata": {},
   "outputs": [
    {
     "name": "stdout",
     "output_type": "stream",
     "text": "Cost after iteration 0 = 2.809214752559593\nCost after iteration 1000 = 0.2602306349916861\nCost after iteration 2000 = 0.2326202905845708\nCost after iteration 3000 = 0.22084664990523356\nCost after iteration 4000 = 0.21219434315944394\nCost after iteration 5000 = 0.20426503377991678\nCost after iteration 6000 = 0.19908695017509428\nCost after iteration 7000 = 0.1956248727317964\nCost after iteration 8000 = 0.1935658957990442\nCost after iteration 9000 = 0.19219844557793625\n"
    }
   ],
   "source": [
    "costs = net.train(X_train, y_train, learning_rate=0.01, print_cost=True)"
   ]
  },
  {
   "cell_type": "code",
   "execution_count": 12,
   "metadata": {},
   "outputs": [
    {
     "name": "stdout",
     "output_type": "stream",
     "text": "[1.33415266] [1.]\n"
    }
   ],
   "source": [
    "predictions = net.predict(X_test)\n",
    "print(predictions[:, 4], y_test[:, 4])"
   ]
  }
 ],
 "metadata": {
  "kernelspec": {
   "display_name": "Python 3",
   "language": "python",
   "name": "python3"
  },
  "language_info": {
   "codemirror_mode": {
    "name": "ipython",
    "version": 3
   },
   "file_extension": ".py",
   "mimetype": "text/x-python",
   "name": "python",
   "nbconvert_exporter": "python",
   "pygments_lexer": "ipython3",
   "version": "3.8.0-final"
  }
 },
 "nbformat": 4,
 "nbformat_minor": 2
}